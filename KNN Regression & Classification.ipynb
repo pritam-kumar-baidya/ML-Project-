{
 "cells": [
  {
   "cell_type": "markdown",
   "id": "841e0200",
   "metadata": {},
   "source": [
    "# KNN Regressor"
   ]
  },
  {
   "cell_type": "code",
   "execution_count": 30,
   "id": "f8043b59",
   "metadata": {},
   "outputs": [],
   "source": [
    "#import dataset\n",
    "import pandas as pd\n",
    "import numpy as np\n",
    "import seaborn as sb\n",
    "import warnings as wr\n",
    "wr.filterwarnings('ignore')\n",
    "import matplotlib.pyplot as plt"
   ]
  },
  {
   "cell_type": "code",
   "execution_count": 2,
   "id": "6c3d455f",
   "metadata": {},
   "outputs": [],
   "source": [
    "#importing our dataset.\n",
    "weight_height=pd.read_csv('weight-height.csv')"
   ]
  },
  {
   "cell_type": "code",
   "execution_count": 3,
   "id": "6d097101",
   "metadata": {},
   "outputs": [],
   "source": [
    "#copy dataset\n",
    "weight_height1=weight_height"
   ]
  },
  {
   "cell_type": "code",
   "execution_count": 123,
   "id": "d9fe5830",
   "metadata": {},
   "outputs": [
    {
     "data": {
      "text/html": [
       "<div>\n",
       "<style scoped>\n",
       "    .dataframe tbody tr th:only-of-type {\n",
       "        vertical-align: middle;\n",
       "    }\n",
       "\n",
       "    .dataframe tbody tr th {\n",
       "        vertical-align: top;\n",
       "    }\n",
       "\n",
       "    .dataframe thead th {\n",
       "        text-align: right;\n",
       "    }\n",
       "</style>\n",
       "<table border=\"1\" class=\"dataframe\">\n",
       "  <thead>\n",
       "    <tr style=\"text-align: right;\">\n",
       "      <th></th>\n",
       "      <th>Gender</th>\n",
       "      <th>Height</th>\n",
       "      <th>Weight</th>\n",
       "    </tr>\n",
       "  </thead>\n",
       "  <tbody>\n",
       "    <tr>\n",
       "      <th>0</th>\n",
       "      <td>Male</td>\n",
       "      <td>73.847017</td>\n",
       "      <td>241.893563</td>\n",
       "    </tr>\n",
       "    <tr>\n",
       "      <th>1</th>\n",
       "      <td>Male</td>\n",
       "      <td>68.781904</td>\n",
       "      <td>162.310473</td>\n",
       "    </tr>\n",
       "    <tr>\n",
       "      <th>2</th>\n",
       "      <td>Male</td>\n",
       "      <td>74.110105</td>\n",
       "      <td>212.740856</td>\n",
       "    </tr>\n",
       "    <tr>\n",
       "      <th>3</th>\n",
       "      <td>Male</td>\n",
       "      <td>71.730978</td>\n",
       "      <td>220.042470</td>\n",
       "    </tr>\n",
       "    <tr>\n",
       "      <th>4</th>\n",
       "      <td>Male</td>\n",
       "      <td>69.881796</td>\n",
       "      <td>206.349801</td>\n",
       "    </tr>\n",
       "  </tbody>\n",
       "</table>\n",
       "</div>"
      ],
      "text/plain": [
       "  Gender     Height      Weight\n",
       "0   Male  73.847017  241.893563\n",
       "1   Male  68.781904  162.310473\n",
       "2   Male  74.110105  212.740856\n",
       "3   Male  71.730978  220.042470\n",
       "4   Male  69.881796  206.349801"
      ]
     },
     "execution_count": 123,
     "metadata": {},
     "output_type": "execute_result"
    }
   ],
   "source": [
    "# show datasite head 5 rows \n",
    "weight_height.head()"
   ]
  },
  {
   "cell_type": "markdown",
   "id": "206c82e5",
   "metadata": {},
   "source": [
    "# Encoding"
   ]
  },
  {
   "cell_type": "code",
   "execution_count": 124,
   "id": "f10b6f87",
   "metadata": {},
   "outputs": [],
   "source": [
    "#Label Encoder\n",
    "from pandas.core.dtypes.common import is_numeric_dtype\n",
    "from sklearn.preprocessing import LabelEncoder\n",
    "le=LabelEncoder()"
   ]
  },
  {
   "cell_type": "code",
   "execution_count": 125,
   "id": "504b1393",
   "metadata": {},
   "outputs": [],
   "source": [
    "for dataset in weight_height.columns:\n",
    "    if is_numeric_dtype(weight_height[dataset]):\n",
    "        continue\n",
    "    else:\n",
    "        weight_height[dataset]=le.fit_transform(weight_height[dataset])"
   ]
  },
  {
   "cell_type": "code",
   "execution_count": 126,
   "id": "8c18d60f",
   "metadata": {},
   "outputs": [],
   "source": [
    "#Splitting the dataset\n",
    "x = weight_height.drop('Weight',axis=1)\n",
    "y = weight_height[['Weight']]"
   ]
  },
  {
   "cell_type": "markdown",
   "id": "e3371a8e",
   "metadata": {},
   "source": [
    "# LinearRegression"
   ]
  },
  {
   "cell_type": "code",
   "execution_count": 131,
   "id": "1260b30c",
   "metadata": {},
   "outputs": [],
   "source": [
    "#importing ML Algorithm\n",
    "from sklearn.model_selection import train_test_split as ts\n",
    "from sklearn.linear_model import LinearRegression\n",
    "from sklearn.metrics import mean_squared_error,mean_absolute_error"
   ]
  },
  {
   "cell_type": "code",
   "execution_count": 128,
   "id": "df2790f3",
   "metadata": {},
   "outputs": [],
   "source": [
    "#data testing and training\n",
    "xtrain,xtest,ytrain,ytest=ts(x,y,train_size=.70,random_state=1)"
   ]
  },
  {
   "cell_type": "code",
   "execution_count": 129,
   "id": "e469fdcc",
   "metadata": {},
   "outputs": [],
   "source": [
    "#crate object\n",
    "lr=LinearRegression()"
   ]
  },
  {
   "cell_type": "code",
   "execution_count": 61,
   "id": "fead354a",
   "metadata": {},
   "outputs": [
    {
     "data": {
      "text/plain": [
       "LinearRegression()"
      ]
     },
     "execution_count": 61,
     "metadata": {},
     "output_type": "execute_result"
    }
   ],
   "source": [
    "#Training the Model\n",
    "lr.fit(xtrain,ytrain)"
   ]
  },
  {
   "cell_type": "code",
   "execution_count": 62,
   "id": "10094859",
   "metadata": {},
   "outputs": [
    {
     "data": {
      "text/plain": [
       "array([[215.5743523]])"
      ]
     },
     "execution_count": 62,
     "metadata": {},
     "output_type": "execute_result"
    }
   ],
   "source": [
    "#predicted value\n",
    "lr.predict([[1,73.847017]])"
   ]
  },
  {
   "cell_type": "code",
   "execution_count": 63,
   "id": "47a3a9b6",
   "metadata": {},
   "outputs": [],
   "source": [
    "#predicted test\n",
    "ypred=lr.predict(xtest)"
   ]
  },
  {
   "cell_type": "code",
   "execution_count": 64,
   "id": "1762064d",
   "metadata": {},
   "outputs": [
    {
     "data": {
      "text/plain": [
       "99.67250998070031"
      ]
     },
     "execution_count": 64,
     "metadata": {},
     "output_type": "execute_result"
    }
   ],
   "source": [
    "#Finding Mean Square error\n",
    "mean_squared_error(ytest,ypred)"
   ]
  },
  {
   "cell_type": "code",
   "execution_count": 65,
   "id": "c686a645",
   "metadata": {},
   "outputs": [
    {
     "data": {
      "text/plain": [
       "7.982132592729128"
      ]
     },
     "execution_count": 65,
     "metadata": {},
     "output_type": "execute_result"
    }
   ],
   "source": [
    "#finding Mean Absolute error\n",
    "mean_absolute_error(ytest,ypred)"
   ]
  },
  {
   "cell_type": "code",
   "execution_count": 66,
   "id": "79eda88b",
   "metadata": {},
   "outputs": [
    {
     "data": {
      "text/plain": [
       "0.9059959607091161"
      ]
     },
     "execution_count": 66,
     "metadata": {},
     "output_type": "execute_result"
    }
   ],
   "source": [
    "lr.score(xtest,ytest) # testing score"
   ]
  },
  {
   "cell_type": "code",
   "execution_count": 67,
   "id": "b9b146c4",
   "metadata": {},
   "outputs": [
    {
     "data": {
      "text/plain": [
       "0.8972135459668117"
      ]
     },
     "execution_count": 67,
     "metadata": {},
     "output_type": "execute_result"
    }
   ],
   "source": [
    "lr.score(xtrain,ytrain) # traing score"
   ]
  },
  {
   "cell_type": "markdown",
   "id": "03bb34a1",
   "metadata": {},
   "source": [
    "# KNeighborsRegressor"
   ]
  },
  {
   "cell_type": "code",
   "execution_count": 74,
   "id": "63e57b07",
   "metadata": {},
   "outputs": [],
   "source": [
    "#importing ML Algorithm\n",
    "from sklearn.neighbors import KNeighborsRegressor"
   ]
  },
  {
   "cell_type": "code",
   "execution_count": 75,
   "id": "8373992e",
   "metadata": {},
   "outputs": [],
   "source": [
    "#crate object\n",
    "kr=KNeighborsRegressor()"
   ]
  },
  {
   "cell_type": "code",
   "execution_count": 76,
   "id": "586c60fe",
   "metadata": {},
   "outputs": [
    {
     "data": {
      "text/plain": [
       "KNeighborsRegressor()"
      ]
     },
     "execution_count": 76,
     "metadata": {},
     "output_type": "execute_result"
    }
   ],
   "source": [
    "#Training the Model\n",
    "kr.fit(xtrain,ytrain)"
   ]
  },
  {
   "cell_type": "code",
   "execution_count": 73,
   "id": "9aa4abaf",
   "metadata": {},
   "outputs": [
    {
     "data": {
      "text/plain": [
       "array([[222.24972316]])"
      ]
     },
     "execution_count": 73,
     "metadata": {},
     "output_type": "execute_result"
    }
   ],
   "source": [
    "#predicted value\n",
    "kr.predict([[1,73.847017]])"
   ]
  },
  {
   "cell_type": "code",
   "execution_count": 77,
   "id": "5f291f44",
   "metadata": {},
   "outputs": [],
   "source": [
    "#predicted test\n",
    "ypred=lr.predict(xtest)"
   ]
  },
  {
   "cell_type": "code",
   "execution_count": 78,
   "id": "c0f5f0cf",
   "metadata": {},
   "outputs": [
    {
     "data": {
      "text/plain": [
       "99.67250998070031"
      ]
     },
     "execution_count": 78,
     "metadata": {},
     "output_type": "execute_result"
    }
   ],
   "source": [
    "#Finding Mean Square error\n",
    "mean_squared_error(ytest,ypred)"
   ]
  },
  {
   "cell_type": "code",
   "execution_count": 79,
   "id": "8fa48283",
   "metadata": {},
   "outputs": [
    {
     "data": {
      "text/plain": [
       "7.982132592729128"
      ]
     },
     "execution_count": 79,
     "metadata": {},
     "output_type": "execute_result"
    }
   ],
   "source": [
    "#finding Mean Absolute error\n",
    "mean_absolute_error(ytest,ypred)"
   ]
  },
  {
   "cell_type": "code",
   "execution_count": 80,
   "id": "6a62c9a0",
   "metadata": {},
   "outputs": [
    {
     "data": {
      "text/plain": [
       "0.9170756955071054"
      ]
     },
     "execution_count": 80,
     "metadata": {},
     "output_type": "execute_result"
    }
   ],
   "source": [
    "kr.score(xtrain,ytrain) # traing score"
   ]
  },
  {
   "cell_type": "code",
   "execution_count": 81,
   "id": "a5f2fdae",
   "metadata": {},
   "outputs": [
    {
     "data": {
      "text/plain": [
       "0.8838502073708883"
      ]
     },
     "execution_count": 81,
     "metadata": {},
     "output_type": "execute_result"
    }
   ],
   "source": [
    "kr.score(xtest,ytest) # testing score"
   ]
  },
  {
   "cell_type": "markdown",
   "id": "4157fe61",
   "metadata": {},
   "source": [
    "# RandomizedSearchCV"
   ]
  },
  {
   "cell_type": "code",
   "execution_count": 83,
   "id": "40bb6b3c",
   "metadata": {},
   "outputs": [],
   "source": [
    "tree = np.random.randint(10,100,30)"
   ]
  },
  {
   "cell_type": "code",
   "execution_count": 85,
   "id": "bf2ce69c",
   "metadata": {},
   "outputs": [],
   "source": [
    "weights = ['uniform','distance']\n",
    "leaf_size = np.random.randint(1,10,15)\n",
    "algorithm = ['auto', 'ball_tree', 'kd_tree', 'brute']"
   ]
  },
  {
   "cell_type": "code",
   "execution_count": 86,
   "id": "e6e5055d",
   "metadata": {},
   "outputs": [],
   "source": [
    "ids={'n_neighbors':tree,'weights':weights,'leaf_size':leaf_size,'algorithm':algorithm}"
   ]
  },
  {
   "cell_type": "code",
   "execution_count": 84,
   "id": "4692030e",
   "metadata": {},
   "outputs": [],
   "source": [
    "from sklearn.model_selection import RandomizedSearchCV"
   ]
  },
  {
   "cell_type": "code",
   "execution_count": 88,
   "id": "7c5f7dd5",
   "metadata": {},
   "outputs": [],
   "source": [
    "rscv=RandomizedSearchCV(kr,ids,n_jobs=20,cv=3)"
   ]
  },
  {
   "cell_type": "code",
   "execution_count": 89,
   "id": "c3b0e51d",
   "metadata": {},
   "outputs": [
    {
     "data": {
      "text/plain": [
       "RandomizedSearchCV(cv=3, estimator=KNeighborsRegressor(), n_jobs=20,\n",
       "                   param_distributions={'algorithm': ['auto', 'ball_tree',\n",
       "                                                      'kd_tree', 'brute'],\n",
       "                                        'leaf_size': array([3, 5, 2, 9, 2, 2, 8, 9, 2, 8, 7, 8, 3, 6, 8]),\n",
       "                                        'n_neighbors': array([34, 62, 99, 79, 28, 66, 29, 16, 34, 78, 86, 87, 33, 39, 55, 52, 25,\n",
       "       81, 40, 10, 57, 65, 63, 53, 79, 78, 90, 70, 54, 26]),\n",
       "                                        'weights': ['uniform', 'distance']})"
      ]
     },
     "execution_count": 89,
     "metadata": {},
     "output_type": "execute_result"
    }
   ],
   "source": [
    "rscv.fit(xtrain,ytrain)"
   ]
  },
  {
   "cell_type": "code",
   "execution_count": 95,
   "id": "0291b9c0",
   "metadata": {},
   "outputs": [
    {
     "data": {
      "text/plain": [
       "{'weights': 'uniform',\n",
       " 'n_neighbors': 53,\n",
       " 'leaf_size': 9,\n",
       " 'algorithm': 'ball_tree'}"
      ]
     },
     "execution_count": 95,
     "metadata": {},
     "output_type": "execute_result"
    }
   ],
   "source": [
    "rscv.best_params_"
   ]
  },
  {
   "cell_type": "code",
   "execution_count": 96,
   "id": "1fe76f07",
   "metadata": {},
   "outputs": [
    {
     "data": {
      "text/plain": [
       "0.8937044022017301"
      ]
     },
     "execution_count": 96,
     "metadata": {},
     "output_type": "execute_result"
    }
   ],
   "source": [
    "rscv.best_score_"
   ]
  },
  {
   "cell_type": "code",
   "execution_count": 109,
   "id": "2a399109",
   "metadata": {},
   "outputs": [
    {
     "data": {
      "text/plain": [
       "array([[215.71584452]])"
      ]
     },
     "execution_count": 109,
     "metadata": {},
     "output_type": "execute_result"
    }
   ],
   "source": [
    "#predicted value\n",
    "rscv.predict([[1,73.847017]])"
   ]
  },
  {
   "cell_type": "code",
   "execution_count": 110,
   "id": "db55ebff",
   "metadata": {},
   "outputs": [
    {
     "data": {
      "text/plain": [
       "99.67250998070031"
      ]
     },
     "execution_count": 110,
     "metadata": {},
     "output_type": "execute_result"
    }
   ],
   "source": [
    "#Finding Mean Square error\n",
    "mean_squared_error(ytest,ypred)"
   ]
  },
  {
   "cell_type": "code",
   "execution_count": 97,
   "id": "cd59528f",
   "metadata": {},
   "outputs": [
    {
     "data": {
      "text/plain": [
       "0.9170756955071054"
      ]
     },
     "execution_count": 97,
     "metadata": {},
     "output_type": "execute_result"
    }
   ],
   "source": [
    "kr.score(xtrain,ytrain) # KNeighborsRegressor score"
   ]
  },
  {
   "cell_type": "code",
   "execution_count": 105,
   "id": "c6584164",
   "metadata": {},
   "outputs": [
    {
     "data": {
      "text/plain": [
       "0.8973892273137252"
      ]
     },
     "execution_count": 105,
     "metadata": {},
     "output_type": "execute_result"
    }
   ],
   "source": [
    "rscv.score(xtrain,ytrain) # RandomizedSearchCV"
   ]
  },
  {
   "cell_type": "code",
   "execution_count": 98,
   "id": "d1921eae",
   "metadata": {},
   "outputs": [
    {
     "data": {
      "text/plain": [
       "0.8838502073708883"
      ]
     },
     "execution_count": 98,
     "metadata": {},
     "output_type": "execute_result"
    }
   ],
   "source": [
    "kr.score(xtest,ytest) # KNeighborsRegressor score"
   ]
  },
  {
   "cell_type": "code",
   "execution_count": 106,
   "id": "d237b8e2",
   "metadata": {},
   "outputs": [
    {
     "data": {
      "text/plain": [
       "0.9035963500209616"
      ]
     },
     "execution_count": 106,
     "metadata": {},
     "output_type": "execute_result"
    }
   ],
   "source": [
    "rscv.score(xtest,ytest) # RandomizedSearchCV"
   ]
  },
  {
   "cell_type": "code",
   "execution_count": 99,
   "id": "c906b4a2",
   "metadata": {},
   "outputs": [],
   "source": [
    "cv_result = pd.DataFrame(rscv.cv_results_)"
   ]
  },
  {
   "cell_type": "code",
   "execution_count": 100,
   "id": "62a94ec0",
   "metadata": {},
   "outputs": [
    {
     "data": {
      "text/html": [
       "<div>\n",
       "<style scoped>\n",
       "    .dataframe tbody tr th:only-of-type {\n",
       "        vertical-align: middle;\n",
       "    }\n",
       "\n",
       "    .dataframe tbody tr th {\n",
       "        vertical-align: top;\n",
       "    }\n",
       "\n",
       "    .dataframe thead th {\n",
       "        text-align: right;\n",
       "    }\n",
       "</style>\n",
       "<table border=\"1\" class=\"dataframe\">\n",
       "  <thead>\n",
       "    <tr style=\"text-align: right;\">\n",
       "      <th></th>\n",
       "      <th>mean_fit_time</th>\n",
       "      <th>std_fit_time</th>\n",
       "      <th>mean_score_time</th>\n",
       "      <th>std_score_time</th>\n",
       "      <th>param_weights</th>\n",
       "      <th>param_n_neighbors</th>\n",
       "      <th>param_leaf_size</th>\n",
       "      <th>param_algorithm</th>\n",
       "      <th>params</th>\n",
       "      <th>split0_test_score</th>\n",
       "      <th>split1_test_score</th>\n",
       "      <th>split2_test_score</th>\n",
       "      <th>mean_test_score</th>\n",
       "      <th>std_test_score</th>\n",
       "      <th>rank_test_score</th>\n",
       "    </tr>\n",
       "  </thead>\n",
       "  <tbody>\n",
       "    <tr>\n",
       "      <th>0</th>\n",
       "      <td>0.011298</td>\n",
       "      <td>0.000471</td>\n",
       "      <td>0.094613</td>\n",
       "      <td>0.044728</td>\n",
       "      <td>distance</td>\n",
       "      <td>54</td>\n",
       "      <td>8</td>\n",
       "      <td>kd_tree</td>\n",
       "      <td>{'weights': 'distance', 'n_neighbors': 54, 'le...</td>\n",
       "      <td>0.876785</td>\n",
       "      <td>0.876692</td>\n",
       "      <td>0.883754</td>\n",
       "      <td>0.879077</td>\n",
       "      <td>0.003307</td>\n",
       "      <td>9</td>\n",
       "    </tr>\n",
       "    <tr>\n",
       "      <th>1</th>\n",
       "      <td>0.005995</td>\n",
       "      <td>0.000002</td>\n",
       "      <td>1.421188</td>\n",
       "      <td>0.025651</td>\n",
       "      <td>distance</td>\n",
       "      <td>63</td>\n",
       "      <td>5</td>\n",
       "      <td>brute</td>\n",
       "      <td>{'weights': 'distance', 'n_neighbors': 63, 'le...</td>\n",
       "      <td>0.877288</td>\n",
       "      <td>0.876994</td>\n",
       "      <td>0.884154</td>\n",
       "      <td>0.879479</td>\n",
       "      <td>0.003308</td>\n",
       "      <td>7</td>\n",
       "    </tr>\n",
       "    <tr>\n",
       "      <th>2</th>\n",
       "      <td>0.011648</td>\n",
       "      <td>0.000483</td>\n",
       "      <td>0.255523</td>\n",
       "      <td>0.072632</td>\n",
       "      <td>uniform</td>\n",
       "      <td>87</td>\n",
       "      <td>8</td>\n",
       "      <td>auto</td>\n",
       "      <td>{'weights': 'uniform', 'n_neighbors': 87, 'lea...</td>\n",
       "      <td>0.891076</td>\n",
       "      <td>0.888438</td>\n",
       "      <td>0.896880</td>\n",
       "      <td>0.892131</td>\n",
       "      <td>0.003526</td>\n",
       "      <td>5</td>\n",
       "    </tr>\n",
       "    <tr>\n",
       "      <th>3</th>\n",
       "      <td>0.013325</td>\n",
       "      <td>0.000942</td>\n",
       "      <td>0.118935</td>\n",
       "      <td>0.021452</td>\n",
       "      <td>distance</td>\n",
       "      <td>57</td>\n",
       "      <td>8</td>\n",
       "      <td>kd_tree</td>\n",
       "      <td>{'weights': 'distance', 'n_neighbors': 57, 'le...</td>\n",
       "      <td>0.876943</td>\n",
       "      <td>0.876833</td>\n",
       "      <td>0.883927</td>\n",
       "      <td>0.879234</td>\n",
       "      <td>0.003318</td>\n",
       "      <td>8</td>\n",
       "    </tr>\n",
       "    <tr>\n",
       "      <th>4</th>\n",
       "      <td>0.012992</td>\n",
       "      <td>0.001413</td>\n",
       "      <td>0.072959</td>\n",
       "      <td>0.010670</td>\n",
       "      <td>distance</td>\n",
       "      <td>33</td>\n",
       "      <td>8</td>\n",
       "      <td>kd_tree</td>\n",
       "      <td>{'weights': 'distance', 'n_neighbors': 33, 'le...</td>\n",
       "      <td>0.874824</td>\n",
       "      <td>0.874974</td>\n",
       "      <td>0.881851</td>\n",
       "      <td>0.877216</td>\n",
       "      <td>0.003278</td>\n",
       "      <td>10</td>\n",
       "    </tr>\n",
       "  </tbody>\n",
       "</table>\n",
       "</div>"
      ],
      "text/plain": [
       "   mean_fit_time  std_fit_time  mean_score_time  std_score_time param_weights  \\\n",
       "0       0.011298      0.000471         0.094613        0.044728      distance   \n",
       "1       0.005995      0.000002         1.421188        0.025651      distance   \n",
       "2       0.011648      0.000483         0.255523        0.072632       uniform   \n",
       "3       0.013325      0.000942         0.118935        0.021452      distance   \n",
       "4       0.012992      0.001413         0.072959        0.010670      distance   \n",
       "\n",
       "  param_n_neighbors param_leaf_size param_algorithm  \\\n",
       "0                54               8         kd_tree   \n",
       "1                63               5           brute   \n",
       "2                87               8            auto   \n",
       "3                57               8         kd_tree   \n",
       "4                33               8         kd_tree   \n",
       "\n",
       "                                              params  split0_test_score  \\\n",
       "0  {'weights': 'distance', 'n_neighbors': 54, 'le...           0.876785   \n",
       "1  {'weights': 'distance', 'n_neighbors': 63, 'le...           0.877288   \n",
       "2  {'weights': 'uniform', 'n_neighbors': 87, 'lea...           0.891076   \n",
       "3  {'weights': 'distance', 'n_neighbors': 57, 'le...           0.876943   \n",
       "4  {'weights': 'distance', 'n_neighbors': 33, 'le...           0.874824   \n",
       "\n",
       "   split1_test_score  split2_test_score  mean_test_score  std_test_score  \\\n",
       "0           0.876692           0.883754         0.879077        0.003307   \n",
       "1           0.876994           0.884154         0.879479        0.003308   \n",
       "2           0.888438           0.896880         0.892131        0.003526   \n",
       "3           0.876833           0.883927         0.879234        0.003318   \n",
       "4           0.874974           0.881851         0.877216        0.003278   \n",
       "\n",
       "   rank_test_score  \n",
       "0                9  \n",
       "1                7  \n",
       "2                5  \n",
       "3                8  \n",
       "4               10  "
      ]
     },
     "execution_count": 100,
     "metadata": {},
     "output_type": "execute_result"
    }
   ],
   "source": [
    "cv_result.head()"
   ]
  },
  {
   "cell_type": "code",
   "execution_count": 101,
   "id": "f813b31b",
   "metadata": {},
   "outputs": [],
   "source": [
    "rscv2=rscv.best_estimator_"
   ]
  },
  {
   "cell_type": "code",
   "execution_count": 102,
   "id": "f3c9bfba",
   "metadata": {},
   "outputs": [
    {
     "data": {
      "text/plain": [
       "KNeighborsRegressor(algorithm='ball_tree', leaf_size=9, n_neighbors=53)"
      ]
     },
     "execution_count": 102,
     "metadata": {},
     "output_type": "execute_result"
    }
   ],
   "source": [
    "rscv2.fit(xtrain,ytrain)"
   ]
  },
  {
   "cell_type": "code",
   "execution_count": 107,
   "id": "1c20fbb5",
   "metadata": {},
   "outputs": [
    {
     "data": {
      "text/plain": [
       "0.9035963500209616"
      ]
     },
     "execution_count": 107,
     "metadata": {},
     "output_type": "execute_result"
    }
   ],
   "source": [
    "rscv2.score(xtest,ytest) # new RandomizedSearchCV"
   ]
  },
  {
   "cell_type": "code",
   "execution_count": 108,
   "id": "c751594e",
   "metadata": {},
   "outputs": [
    {
     "data": {
      "text/plain": [
       "0.8973892273137252"
      ]
     },
     "execution_count": 108,
     "metadata": {},
     "output_type": "execute_result"
    }
   ],
   "source": [
    "rscv2.score(xtrain,ytrain) # new RandomizedSearchCV"
   ]
  },
  {
   "cell_type": "markdown",
   "id": "7e14622f",
   "metadata": {},
   "source": [
    "# KNN Classifier"
   ]
  },
  {
   "cell_type": "code",
   "execution_count": 116,
   "id": "26347902",
   "metadata": {},
   "outputs": [
    {
     "data": {
      "text/html": [
       "<div>\n",
       "<style scoped>\n",
       "    .dataframe tbody tr th:only-of-type {\n",
       "        vertical-align: middle;\n",
       "    }\n",
       "\n",
       "    .dataframe tbody tr th {\n",
       "        vertical-align: top;\n",
       "    }\n",
       "\n",
       "    .dataframe thead th {\n",
       "        text-align: right;\n",
       "    }\n",
       "</style>\n",
       "<table border=\"1\" class=\"dataframe\">\n",
       "  <thead>\n",
       "    <tr style=\"text-align: right;\">\n",
       "      <th></th>\n",
       "      <th>Gender</th>\n",
       "      <th>Height</th>\n",
       "      <th>Weight</th>\n",
       "    </tr>\n",
       "  </thead>\n",
       "  <tbody>\n",
       "    <tr>\n",
       "      <th>0</th>\n",
       "      <td>Male</td>\n",
       "      <td>73.847017</td>\n",
       "      <td>241.893563</td>\n",
       "    </tr>\n",
       "    <tr>\n",
       "      <th>1</th>\n",
       "      <td>Male</td>\n",
       "      <td>68.781904</td>\n",
       "      <td>162.310473</td>\n",
       "    </tr>\n",
       "    <tr>\n",
       "      <th>2</th>\n",
       "      <td>Male</td>\n",
       "      <td>74.110105</td>\n",
       "      <td>212.740856</td>\n",
       "    </tr>\n",
       "    <tr>\n",
       "      <th>3</th>\n",
       "      <td>Male</td>\n",
       "      <td>71.730978</td>\n",
       "      <td>220.042470</td>\n",
       "    </tr>\n",
       "    <tr>\n",
       "      <th>4</th>\n",
       "      <td>Male</td>\n",
       "      <td>69.881796</td>\n",
       "      <td>206.349801</td>\n",
       "    </tr>\n",
       "  </tbody>\n",
       "</table>\n",
       "</div>"
      ],
      "text/plain": [
       "  Gender     Height      Weight\n",
       "0   Male  73.847017  241.893563\n",
       "1   Male  68.781904  162.310473\n",
       "2   Male  74.110105  212.740856\n",
       "3   Male  71.730978  220.042470\n",
       "4   Male  69.881796  206.349801"
      ]
     },
     "execution_count": 116,
     "metadata": {},
     "output_type": "execute_result"
    }
   ],
   "source": [
    "weight_height1.head()"
   ]
  },
  {
   "cell_type": "code",
   "execution_count": 32,
   "id": "e37eccdc",
   "metadata": {},
   "outputs": [],
   "source": [
    "#importing ML Algorithm\n",
    "from sklearn.neighbors import KNeighborsClassifier\n",
    "from sklearn.model_selection import train_test_split\n",
    "from sklearn.metrics import classification_report, confusion_matrix, roc_curve, plot_roc_curve"
   ]
  },
  {
   "cell_type": "code",
   "execution_count": 5,
   "id": "9b6a299d",
   "metadata": {},
   "outputs": [],
   "source": [
    "x2=weight_height1.drop('Gender',axis=1)\n",
    "y2=weight_height1[['Gender']]"
   ]
  },
  {
   "cell_type": "code",
   "execution_count": 6,
   "id": "3e7e4852",
   "metadata": {},
   "outputs": [],
   "source": [
    "#data testing and training\n",
    "x2train,x2test,y2train,y2test=train_test_split(x2,y2,train_size=.70,random_state=1)"
   ]
  },
  {
   "cell_type": "code",
   "execution_count": 13,
   "id": "f248eeed",
   "metadata": {},
   "outputs": [],
   "source": [
    "knc=KNeighborsClassifier() # #crate object"
   ]
  },
  {
   "cell_type": "code",
   "execution_count": 14,
   "id": "84c1d5db",
   "metadata": {},
   "outputs": [
    {
     "data": {
      "text/plain": [
       "KNeighborsClassifier()"
      ]
     },
     "execution_count": 14,
     "metadata": {},
     "output_type": "execute_result"
    }
   ],
   "source": [
    "knc.fit(x2train,y2train) # #Training the Model"
   ]
  },
  {
   "cell_type": "code",
   "execution_count": 10,
   "id": "5afe27dd",
   "metadata": {},
   "outputs": [
    {
     "data": {
      "text/plain": [
       "0.9263527054108216"
      ]
     },
     "execution_count": 10,
     "metadata": {},
     "output_type": "execute_result"
    }
   ],
   "source": [
    "knc.score(x2train,y2train) # traing score"
   ]
  },
  {
   "cell_type": "code",
   "execution_count": 12,
   "id": "32bce875",
   "metadata": {},
   "outputs": [
    {
     "data": {
      "text/plain": [
       "0.9146864043630697"
      ]
     },
     "execution_count": 12,
     "metadata": {},
     "output_type": "execute_result"
    }
   ],
   "source": [
    "knc.score(x2test,y2test) # testing score"
   ]
  },
  {
   "cell_type": "code",
   "execution_count": 16,
   "id": "efbb61cc",
   "metadata": {},
   "outputs": [],
   "source": [
    "ypred=knc.predict(x2test) # testing predicted values"
   ]
  },
  {
   "cell_type": "code",
   "execution_count": 19,
   "id": "2fb531f1",
   "metadata": {},
   "outputs": [
    {
     "name": "stdout",
     "output_type": "stream",
     "text": [
      "              precision    recall  f1-score   support\n",
      "\n",
      "      Female       0.90      0.89      0.90      1055\n",
      "        Male       0.92      0.93      0.93      1512\n",
      "\n",
      "    accuracy                           0.91      2567\n",
      "   macro avg       0.91      0.91      0.91      2567\n",
      "weighted avg       0.91      0.91      0.91      2567\n",
      "\n"
     ]
    }
   ],
   "source": [
    "print(classification_report(y2test,ypred)) # # print classification_report"
   ]
  },
  {
   "cell_type": "code",
   "execution_count": 23,
   "id": "c26a8b83",
   "metadata": {},
   "outputs": [
    {
     "data": {
      "text/plain": [
       "array([[ 938,  117],\n",
       "       [ 102, 1410]], dtype=int64)"
      ]
     },
     "execution_count": 23,
     "metadata": {},
     "output_type": "execute_result"
    }
   ],
   "source": [
    "confusion_matrix(y2test,ypred) # confusion_matrix values"
   ]
  },
  {
   "cell_type": "code",
   "execution_count": 22,
   "id": "b69a4413",
   "metadata": {},
   "outputs": [
    {
     "data": {
      "text/plain": [
       "0.9146864043630697"
      ]
     },
     "execution_count": 22,
     "metadata": {},
     "output_type": "execute_result"
    }
   ],
   "source": [
    "(938+1410)/(938+117+102+1410) # # confusion_matrix value Accuracy"
   ]
  },
  {
   "cell_type": "code",
   "execution_count": 28,
   "id": "f73e267c",
   "metadata": {},
   "outputs": [],
   "source": [
    "heatmap=confusion_matrix(y2test,ypred) # confusion_matrix values heatmap"
   ]
  },
  {
   "cell_type": "code",
   "execution_count": 29,
   "id": "a29ceefb",
   "metadata": {},
   "outputs": [
    {
     "data": {
      "text/plain": [
       "<AxesSubplot:>"
      ]
     },
     "execution_count": 29,
     "metadata": {},
     "output_type": "execute_result"
    },
    {
     "data": {
      "image/png": "[encoded data removed]",
      "text/plain": [
       "<Figure size 432x288 with 2 Axes>"
      ]
     },
     "metadata": {
      "needs_background": "light"
     },
     "output_type": "display_data"
    }
   ],
   "source": [
    "sb.heatmap(heatmap,annot=True) # confusion_matrix values heatmap"
   ]
  },
  {
   "cell_type": "code",
   "execution_count": 33,
   "id": "fd4e80d5",
   "metadata": {},
   "outputs": [
    {
     "data": {
      "text/plain": [
       "[<matplotlib.lines.Line2D at 0x1db2f536670>]"
      ]
     },
     "execution_count": 33,
     "metadata": {},
     "output_type": "execute_result"
    },
    {
     "data": {
      "image/png": "[encoded data removed]",
      "text/plain": [
       "<Figure size 432x288 with 1 Axes>"
      ]
     },
     "metadata": {
      "needs_background": "light"
     },
     "output_type": "display_data"
    }
   ],
   "source": [
    "plot_roc_curve(knc,x2test,y2test) # The Area Under the Curve (AUC)\n",
    "plt.plot([0,1],[0,1])"
   ]
  }
 ],
 "metadata": {
  "kernelspec": {
   "display_name": "Python 3 (ipykernel)",
   "language": "python",
   "name": "python3"
  },
  "language_info": {
   "codemirror_mode": {
    "name": "ipython",
    "version": 3
   },
   "file_extension": ".py",
   "mimetype": "text/x-python",
   "name": "python",
   "nbconvert_exporter": "python",
   "pygments_lexer": "ipython3",
   "version": "3.9.7"
  }
 },
 "nbformat": 4,
 "nbformat_minor": 5
}
