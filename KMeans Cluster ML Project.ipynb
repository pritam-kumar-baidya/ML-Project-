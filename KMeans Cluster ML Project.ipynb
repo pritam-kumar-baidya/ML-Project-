{
 "cells": [
  {
   "cell_type": "markdown",
   "id": "655d714b",
   "metadata": {},
   "source": [
    "# KMeans Cluster"
   ]
  },
  {
   "cell_type": "code",
   "execution_count": 128,
   "id": "b3c17829",
   "metadata": {},
   "outputs": [],
   "source": [
    "#Dataset imoprt \n",
    "import numpy as np\n",
    "import pandas as pd\n",
    "import matplotlib.pyplot as mp\n",
    "import seaborn as sb"
   ]
  },
  {
   "cell_type": "code",
   "execution_count": 129,
   "id": "76171b36",
   "metadata": {},
   "outputs": [],
   "source": [
    "mail_customers = pd.read_csv('mall customers.csv') # load dataset"
   ]
  },
  {
   "cell_type": "code",
   "execution_count": 130,
   "id": "5bf9359e",
   "metadata": {},
   "outputs": [
    {
     "data": {
      "text/html": [
       "<div>\n",
       "<style scoped>\n",
       "    .dataframe tbody tr th:only-of-type {\n",
       "        vertical-align: middle;\n",
       "    }\n",
       "\n",
       "    .dataframe tbody tr th {\n",
       "        vertical-align: top;\n",
       "    }\n",
       "\n",
       "    .dataframe thead th {\n",
       "        text-align: right;\n",
       "    }\n",
       "</style>\n",
       "<table border=\"1\" class=\"dataframe\">\n",
       "  <thead>\n",
       "    <tr style=\"text-align: right;\">\n",
       "      <th></th>\n",
       "      <th>CustomerID</th>\n",
       "      <th>Gender</th>\n",
       "      <th>Age</th>\n",
       "      <th>Annual Income (k$)</th>\n",
       "      <th>Spending Score (1-100)</th>\n",
       "    </tr>\n",
       "  </thead>\n",
       "  <tbody>\n",
       "    <tr>\n",
       "      <th>0</th>\n",
       "      <td>1</td>\n",
       "      <td>Male</td>\n",
       "      <td>19</td>\n",
       "      <td>15</td>\n",
       "      <td>39</td>\n",
       "    </tr>\n",
       "    <tr>\n",
       "      <th>1</th>\n",
       "      <td>2</td>\n",
       "      <td>Male</td>\n",
       "      <td>21</td>\n",
       "      <td>15</td>\n",
       "      <td>81</td>\n",
       "    </tr>\n",
       "    <tr>\n",
       "      <th>2</th>\n",
       "      <td>3</td>\n",
       "      <td>Female</td>\n",
       "      <td>20</td>\n",
       "      <td>16</td>\n",
       "      <td>6</td>\n",
       "    </tr>\n",
       "    <tr>\n",
       "      <th>3</th>\n",
       "      <td>4</td>\n",
       "      <td>Female</td>\n",
       "      <td>23</td>\n",
       "      <td>16</td>\n",
       "      <td>77</td>\n",
       "    </tr>\n",
       "    <tr>\n",
       "      <th>4</th>\n",
       "      <td>5</td>\n",
       "      <td>Female</td>\n",
       "      <td>31</td>\n",
       "      <td>17</td>\n",
       "      <td>40</td>\n",
       "    </tr>\n",
       "  </tbody>\n",
       "</table>\n",
       "</div>"
      ],
      "text/plain": [
       "   CustomerID  Gender  Age  Annual Income (k$)  Spending Score (1-100)\n",
       "0           1    Male   19                  15                      39\n",
       "1           2    Male   21                  15                      81\n",
       "2           3  Female   20                  16                       6\n",
       "3           4  Female   23                  16                      77\n",
       "4           5  Female   31                  17                      40"
      ]
     },
     "execution_count": 130,
     "metadata": {},
     "output_type": "execute_result"
    }
   ],
   "source": [
    "mail_customers.head() # show head 5 rows "
   ]
  },
  {
   "cell_type": "code",
   "execution_count": 131,
   "id": "93e44f78",
   "metadata": {},
   "outputs": [],
   "source": [
    "mail_customers.drop('CustomerID',axis=1,inplace=True) # drop 1 columns"
   ]
  },
  {
   "cell_type": "code",
   "execution_count": 132,
   "id": "8be7c82d",
   "metadata": {},
   "outputs": [],
   "source": [
    "# rename all columns \n",
    "mail_customers.rename(columns={'Gender':'gender','Age':'age','Annual Income (k$)':'income',\n",
    "                                'Spending Score (1-100)':'score'},inplace=True)"
   ]
  },
  {
   "cell_type": "code",
   "execution_count": 133,
   "id": "1b99656c",
   "metadata": {},
   "outputs": [
    {
     "data": {
      "text/html": [
       "<div>\n",
       "<style scoped>\n",
       "    .dataframe tbody tr th:only-of-type {\n",
       "        vertical-align: middle;\n",
       "    }\n",
       "\n",
       "    .dataframe tbody tr th {\n",
       "        vertical-align: top;\n",
       "    }\n",
       "\n",
       "    .dataframe thead th {\n",
       "        text-align: right;\n",
       "    }\n",
       "</style>\n",
       "<table border=\"1\" class=\"dataframe\">\n",
       "  <thead>\n",
       "    <tr style=\"text-align: right;\">\n",
       "      <th></th>\n",
       "      <th>age</th>\n",
       "      <th>income</th>\n",
       "      <th>score</th>\n",
       "    </tr>\n",
       "  </thead>\n",
       "  <tbody>\n",
       "    <tr>\n",
       "      <th>age</th>\n",
       "      <td>1.000000</td>\n",
       "      <td>-0.012398</td>\n",
       "      <td>-0.327227</td>\n",
       "    </tr>\n",
       "    <tr>\n",
       "      <th>income</th>\n",
       "      <td>-0.012398</td>\n",
       "      <td>1.000000</td>\n",
       "      <td>0.009903</td>\n",
       "    </tr>\n",
       "    <tr>\n",
       "      <th>score</th>\n",
       "      <td>-0.327227</td>\n",
       "      <td>0.009903</td>\n",
       "      <td>1.000000</td>\n",
       "    </tr>\n",
       "  </tbody>\n",
       "</table>\n",
       "</div>"
      ],
      "text/plain": [
       "             age    income     score\n",
       "age     1.000000 -0.012398 -0.327227\n",
       "income -0.012398  1.000000  0.009903\n",
       "score  -0.327227  0.009903  1.000000"
      ]
     },
     "execution_count": 133,
     "metadata": {},
     "output_type": "execute_result"
    }
   ],
   "source": [
    "mail_customers.corr() # show dataset corr value "
   ]
  },
  {
   "cell_type": "code",
   "execution_count": 134,
   "id": "03a55a12",
   "metadata": {},
   "outputs": [
    {
     "data": {
      "text/plain": [
       "<AxesSubplot:>"
      ]
     },
     "execution_count": 134,
     "metadata": {},
     "output_type": "execute_result"
    },
    {
     "data": {
      "image/png": "[encoded data removed]",
      "text/plain": [
       "<Figure size 432x288 with 2 Axes>"
      ]
     },
     "metadata": {
      "needs_background": "light"
     },
     "output_type": "display_data"
    }
   ],
   "source": [
    "sb.heatmap(mail_customers.corr(),annot=True) # show heatmap dataset corr"
   ]
  },
  {
   "cell_type": "markdown",
   "id": "45328695",
   "metadata": {},
   "source": [
    "# Visualization"
   ]
  },
  {
   "cell_type": "code",
   "execution_count": 135,
   "id": "6682cc71",
   "metadata": {},
   "outputs": [
    {
     "data": {
      "text/plain": [
       "<matplotlib.collections.PathCollection at 0x29bdfe4f3a0>"
      ]
     },
     "execution_count": 135,
     "metadata": {},
     "output_type": "execute_result"
    },
    {
     "data": {
      "image/png": "[encoded data removed]",
      "text/plain": [
       "<Figure size 432x288 with 1 Axes>"
      ]
     },
     "metadata": {
      "needs_background": "light"
     },
     "output_type": "display_data"
    }
   ],
   "source": [
    "mp.scatter(mail_customers['income'],mail_customers['score']) # show scatter plot"
   ]
  },
  {
   "cell_type": "code",
   "execution_count": 136,
   "id": "2929c7ee",
   "metadata": {},
   "outputs": [
    {
     "data": {
      "text/plain": [
       "<seaborn.axisgrid.PairGrid at 0x29bdfe5f0d0>"
      ]
     },
     "execution_count": 136,
     "metadata": {},
     "output_type": "execute_result"
    },
    {
     "data": {
      "image/png": "[encoded data removed]",
      "text/plain": [
       "<Figure size 540x540 with 12 Axes>"
      ]
     },
     "metadata": {
      "needs_background": "light"
     },
     "output_type": "display_data"
    }
   ],
   "source": [
    "sb.pairplot(mail_customers[['age','income','score']]) # show dataset pairplot"
   ]
  },
  {
   "cell_type": "code",
   "execution_count": 137,
   "id": "0c2a5514",
   "metadata": {},
   "outputs": [],
   "source": [
    "#imoprt ml algorithm\n",
    "import sklearn.cluster as cluster"
   ]
  },
  {
   "cell_type": "code",
   "execution_count": 138,
   "id": "ce7547e2",
   "metadata": {},
   "outputs": [],
   "source": [
    "kmeans=cluster.KMeans() # crate object"
   ]
  },
  {
   "cell_type": "code",
   "execution_count": 139,
   "id": "85926b72",
   "metadata": {},
   "outputs": [],
   "source": [
    "mail_customers['cluster']=kmeans.fit_predict(mail_customers[['income','score']]) # fit cluster"
   ]
  },
  {
   "cell_type": "code",
   "execution_count": 140,
   "id": "e7952326",
   "metadata": {},
   "outputs": [
    {
     "data": {
      "text/plain": [
       "array([[109.7       ,  22.        ],\n",
       "       [ 47.72340426,  50.82978723],\n",
       "       [ 78.03571429,  81.89285714],\n",
       "       [ 25.0952381 ,  80.04761905],\n",
       "       [ 25.14285714,  19.52380952],\n",
       "       [ 80.18181818,  12.68181818],\n",
       "       [108.18181818,  82.72727273],\n",
       "       [ 64.45      ,  46.45      ]])"
      ]
     },
     "execution_count": 140,
     "metadata": {},
     "output_type": "execute_result"
    }
   ],
   "source": [
    "kmeans.cluster_centers_ "
   ]
  },
  {
   "cell_type": "code",
   "execution_count": 141,
   "id": "4a93a76d",
   "metadata": {},
   "outputs": [
    {
     "data": {
      "text/html": [
       "<div>\n",
       "<style scoped>\n",
       "    .dataframe tbody tr th:only-of-type {\n",
       "        vertical-align: middle;\n",
       "    }\n",
       "\n",
       "    .dataframe tbody tr th {\n",
       "        vertical-align: top;\n",
       "    }\n",
       "\n",
       "    .dataframe thead th {\n",
       "        text-align: right;\n",
       "    }\n",
       "</style>\n",
       "<table border=\"1\" class=\"dataframe\">\n",
       "  <thead>\n",
       "    <tr style=\"text-align: right;\">\n",
       "      <th></th>\n",
       "      <th>gender</th>\n",
       "      <th>age</th>\n",
       "      <th>income</th>\n",
       "      <th>score</th>\n",
       "      <th>cluster</th>\n",
       "    </tr>\n",
       "  </thead>\n",
       "  <tbody>\n",
       "    <tr>\n",
       "      <th>0</th>\n",
       "      <td>Male</td>\n",
       "      <td>19</td>\n",
       "      <td>15</td>\n",
       "      <td>39</td>\n",
       "      <td>4</td>\n",
       "    </tr>\n",
       "    <tr>\n",
       "      <th>1</th>\n",
       "      <td>Male</td>\n",
       "      <td>21</td>\n",
       "      <td>15</td>\n",
       "      <td>81</td>\n",
       "      <td>3</td>\n",
       "    </tr>\n",
       "    <tr>\n",
       "      <th>2</th>\n",
       "      <td>Female</td>\n",
       "      <td>20</td>\n",
       "      <td>16</td>\n",
       "      <td>6</td>\n",
       "      <td>4</td>\n",
       "    </tr>\n",
       "    <tr>\n",
       "      <th>3</th>\n",
       "      <td>Female</td>\n",
       "      <td>23</td>\n",
       "      <td>16</td>\n",
       "      <td>77</td>\n",
       "      <td>3</td>\n",
       "    </tr>\n",
       "    <tr>\n",
       "      <th>4</th>\n",
       "      <td>Female</td>\n",
       "      <td>31</td>\n",
       "      <td>17</td>\n",
       "      <td>40</td>\n",
       "      <td>4</td>\n",
       "    </tr>\n",
       "  </tbody>\n",
       "</table>\n",
       "</div>"
      ],
      "text/plain": [
       "   gender  age  income  score  cluster\n",
       "0    Male   19      15     39        4\n",
       "1    Male   21      15     81        3\n",
       "2  Female   20      16      6        4\n",
       "3  Female   23      16     77        3\n",
       "4  Female   31      17     40        4"
      ]
     },
     "execution_count": 141,
     "metadata": {},
     "output_type": "execute_result"
    }
   ],
   "source": [
    "mail_customers.head()"
   ]
  },
  {
   "cell_type": "code",
   "execution_count": 142,
   "id": "a402aede",
   "metadata": {},
   "outputs": [],
   "source": [
    "mail_customers0=mail_customers[mail_customers.cluster==0]\n",
    "mail_customers1=mail_customers[mail_customers.cluster==1]\n",
    "mail_customers2=mail_customers[mail_customers.cluster==2]\n",
    "mail_customers3=mail_customers[mail_customers.cluster==3]\n",
    "mail_customers4=mail_customers[mail_customers.cluster==4]\n",
    "mail_customers5=mail_customers[mail_customers.cluster==5]\n",
    "mail_customers6=mail_customers[mail_customers.cluster==6]\n",
    "mail_customers7=mail_customers[mail_customers.cluster==7]"
   ]
  },
  {
   "cell_type": "code",
   "execution_count": 143,
   "id": "06532bbd",
   "metadata": {},
   "outputs": [
    {
     "data": {
      "text/plain": [
       "<matplotlib.legend.Legend at 0x29be055e220>"
      ]
     },
     "execution_count": 143,
     "metadata": {},
     "output_type": "execute_result"
    },
    {
     "data": {
      "image/png": "[encoded data removed]",
      "text/plain": [
       "<Figure size 432x288 with 1 Axes>"
      ]
     },
     "metadata": {
      "needs_background": "light"
     },
     "output_type": "display_data"
    }
   ],
   "source": [
    "cluster=kmeans.cluster_centers_\n",
    "mp.scatter(mail_customers0['income'], mail_customers0['score'], color='green', label='0')\n",
    "mp.scatter(mail_customers1['income'], mail_customers1['score'], color='red', label='1')\n",
    "mp.scatter(mail_customers2['income'], mail_customers2['score'], color='cyan', label='2')\n",
    "mp.scatter(mail_customers3['income'], mail_customers3['score'], color='yellow', label='3')\n",
    "mp.scatter(mail_customers4['income'], mail_customers4['score'], color='orange', label='4')\n",
    "mp.scatter(mail_customers5['income'], mail_customers5['score'], color='pink', label='5')\n",
    "mp.scatter(mail_customers6['income'], mail_customers6['score'], color='blue', label='6')\n",
    "mp.scatter(mail_customers7['income'], mail_customers7['score'], color='magenta', label='7')\n",
    "mp.scatter(cluster[:,0],cluster[:,1],color='black',label='centroids')\n",
    "mp.legend()"
   ]
  },
  {
   "cell_type": "markdown",
   "id": "3d5048a8",
   "metadata": {},
   "source": [
    "# Select Optimal Number Of Clusters"
   ]
  },
  {
   "cell_type": "code",
   "execution_count": 144,
   "id": "9896dc4d",
   "metadata": {
    "scrolled": true
   },
   "outputs": [],
   "source": [
    "import warnings as wr\n",
    "wr.filterwarnings('ignore')\n",
    "\n",
    "from sklearn.cluster import KMeans\n",
    "\n",
    "wcss=[]\n",
    "\n",
    "a = range(1,15)\n",
    "\n",
    "for i in a:\n",
    "    b=KMeans(n_clusters=i)\n",
    "    b.fit(mail_customers[['income','score']])\n",
    "    wcss.append(b.inertia_)\n",
    "\n"
   ]
  },
  {
   "cell_type": "code",
   "execution_count": 145,
   "id": "de30569b",
   "metadata": {},
   "outputs": [
    {
     "data": {
      "text/plain": [
       "[269981.28000000014,\n",
       " 183069.17582751295,\n",
       " 106348.37306211119,\n",
       " 73679.78903948837,\n",
       " 44448.45544793369,\n",
       " 37265.86520484345,\n",
       " 30273.394312070028,\n",
       " 24995.96978113596,\n",
       " 21826.936303231643,\n",
       " 19646.482018947245,\n",
       " 17546.928000046544,\n",
       " 16026.308016983028,\n",
       " 14321.881821120063,\n",
       " 13067.866802805034]"
      ]
     },
     "execution_count": 145,
     "metadata": {},
     "output_type": "execute_result"
    }
   ],
   "source": [
    "wcss"
   ]
  },
  {
   "cell_type": "code",
   "execution_count": 146,
   "id": "46506495",
   "metadata": {},
   "outputs": [
    {
     "data": {
      "text/plain": [
       "[<matplotlib.lines.Line2D at 0x29be05dfcd0>]"
      ]
     },
     "execution_count": 146,
     "metadata": {},
     "output_type": "execute_result"
    },
    {
     "data": {
      "image/png": "[encoded data removed]",
      "text/plain": [
       "<Figure size 432x288 with 1 Axes>"
      ]
     },
     "metadata": {
      "needs_background": "light"
     },
     "output_type": "display_data"
    }
   ],
   "source": [
    "mp.plot(a,wcss)"
   ]
  },
  {
   "cell_type": "code",
   "execution_count": 147,
   "id": "b2eb366f",
   "metadata": {},
   "outputs": [
    {
     "name": "stdout",
     "output_type": "stream",
     "text": [
      "Requirement already satisfied: kneed in c:\\programdata\\anaconda3\\lib\\site-packages (0.7.0)\n",
      "Requirement already satisfied: scipy in c:\\programdata\\anaconda3\\lib\\site-packages (from kneed) (1.7.1)\n",
      "Requirement already satisfied: matplotlib in c:\\programdata\\anaconda3\\lib\\site-packages (from kneed) (3.4.3)\n",
      "Requirement already satisfied: numpy>=1.14.2 in c:\\programdata\\anaconda3\\lib\\site-packages (from kneed) (1.20.3)\n",
      "Requirement already satisfied: pillow>=6.2.0 in c:\\programdata\\anaconda3\\lib\\site-packages (from matplotlib->kneed) (8.4.0)\n",
      "Requirement already satisfied: cycler>=0.10 in c:\\programdata\\anaconda3\\lib\\site-packages (from matplotlib->kneed) (0.10.0)\n",
      "Requirement already satisfied: python-dateutil>=2.7 in c:\\programdata\\anaconda3\\lib\\site-packages (from matplotlib->kneed) (2.8.2)\n",
      "Requirement already satisfied: pyparsing>=2.2.1 in c:\\programdata\\anaconda3\\lib\\site-packages (from matplotlib->kneed) (3.0.4)\n",
      "Requirement already satisfied: kiwisolver>=1.0.1 in c:\\programdata\\anaconda3\\lib\\site-packages (from matplotlib->kneed) (1.3.1)\n",
      "Requirement already satisfied: six in c:\\programdata\\anaconda3\\lib\\site-packages (from cycler>=0.10->matplotlib->kneed) (1.16.0)\n"
     ]
    }
   ],
   "source": [
    "!pip install kneed"
   ]
  },
  {
   "cell_type": "code",
   "execution_count": 148,
   "id": "d30a9015",
   "metadata": {},
   "outputs": [],
   "source": [
    "from kneed import KneeLocator "
   ]
  },
  {
   "cell_type": "code",
   "execution_count": 149,
   "id": "3ac00f7f",
   "metadata": {},
   "outputs": [],
   "source": [
    "kl=KneeLocator(a,wcss,curve='convex',direction='decreasing')"
   ]
  },
  {
   "cell_type": "code",
   "execution_count": 150,
   "id": "4d55187a",
   "metadata": {},
   "outputs": [
    {
     "data": {
      "text/plain": [
       "5"
      ]
     },
     "execution_count": 150,
     "metadata": {},
     "output_type": "execute_result"
    }
   ],
   "source": [
    "kl.knee"
   ]
  },
  {
   "cell_type": "code",
   "execution_count": null,
   "id": "f541df7e",
   "metadata": {},
   "outputs": [],
   "source": []
  },
  {
   "cell_type": "code",
   "execution_count": null,
   "id": "ce08a9e4",
   "metadata": {},
   "outputs": [],
   "source": []
  },
  {
   "cell_type": "code",
   "execution_count": null,
   "id": "0f7fd283",
   "metadata": {},
   "outputs": [],
   "source": []
  },
  {
   "cell_type": "code",
   "execution_count": null,
   "id": "5d508b40",
   "metadata": {},
   "outputs": [],
   "source": []
  },
  {
   "cell_type": "code",
   "execution_count": null,
   "id": "968df04b",
   "metadata": {},
   "outputs": [],
   "source": []
  }
 ],
 "metadata": {
  "kernelspec": {
   "display_name": "Python 3 (ipykernel)",
   "language": "python",
   "name": "python3"
  },
  "language_info": {
   "codemirror_mode": {
    "name": "ipython",
    "version": 3
   },
   "file_extension": ".py",
   "mimetype": "text/x-python",
   "name": "python",
   "nbconvert_exporter": "python",
   "pygments_lexer": "ipython3",
   "version": "3.9.7"
  }
 },
 "nbformat": 4,
 "nbformat_minor": 5
}
